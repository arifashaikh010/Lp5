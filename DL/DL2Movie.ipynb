{
  "nbformat": 4,
  "nbformat_minor": 0,
  "metadata": {
    "colab": {
      "provenance": []
    },
    "kernelspec": {
      "name": "python3",
      "display_name": "Python 3"
    },
    "language_info": {
      "name": "python"
    }
  },
  "cells": [
    {
      "cell_type": "markdown",
      "source": [
        "## Classify movie reviews: a binary classification example"
      ],
      "metadata": {
        "id": "PVUzEJ5tB2XM"
      }
    },
    {
      "cell_type": "markdown",
      "source": [
        "###Import packages"
      ],
      "metadata": {
        "id": "z-8UfwElBkT-"
      }
    },
    {
      "cell_type": "code",
      "source": [
        "import numpy as np\n",
        "from keras.datasets import imdb\n",
        "from keras import models\n",
        "from keras import layers\n",
        "from keras import optimizers\n",
        "from keras import losses\n",
        "from keras import metrics\n",
        "import matplotlib.pyplot as plt\n",
        "%matplotlib inline"
      ],
      "metadata": {
        "id": "QQhH3yVSCATt"
      },
      "execution_count": 1,
      "outputs": []
    },
    {
      "cell_type": "markdown",
      "source": [
        "###Loading the data"
      ],
      "metadata": {
        "id": "rR7VCTN2CJ4A"
      }
    },
    {
      "cell_type": "code",
      "source": [
        "#Load the data, keeping only 10,000 of the most frequently occuring words\n",
        "(train_data, train_labels), (test_data, test_labels) = imdb.load_data(num_words = 10000)"
      ],
      "metadata": {
        "colab": {
          "base_uri": "https://localhost:8080/"
        },
        "id": "xFfDXiThCL5S",
        "outputId": "a7aa214f-7e14-4a16-87a8-88b6e0b97ccb"
      },
      "execution_count": 3,
      "outputs": [
        {
          "output_type": "stream",
          "name": "stdout",
          "text": [
            "Downloading data from https://storage.googleapis.com/tensorflow/tf-keras-datasets/imdb.npz\n",
            "17464789/17464789 [==============================] - 0s 0us/step\n"
          ]
        }
      ]
    },
    {
      "cell_type": "code",
      "source": [
        "#check the first label\n",
        "train_labels[0]"
      ],
      "metadata": {
        "colab": {
          "base_uri": "https://localhost:8080/"
        },
        "id": "3SpaRfvkCEk4",
        "outputId": "95480012-e8ad-42ff-8660-a95ee32d8c4a"
      },
      "execution_count": 4,
      "outputs": [
        {
          "output_type": "execute_result",
          "data": {
            "text/plain": [
              "1"
            ]
          },
          "metadata": {},
          "execution_count": 4
        }
      ]
    },
    {
      "cell_type": "code",
      "source": [
        "#Since we restricted ourselves to the top 10000 frequent words, no word index should exceed ... 10000\n",
        "#we'll verify this below\n",
        "#here is a list of maximum indexes in every review - we search the maximum index in this ...\n",
        "print(type([max(sequence) for sequence in train_data]))\n",
        "# Find the maximum of all max indexes\n",
        "max([max(sequence) for sequence in train_data])"
      ],
      "metadata": {
        "colab": {
          "base_uri": "https://localhost:8080/"
        },
        "id": "e8fRNHsoCpL3",
        "outputId": "5c183483-e8a4-4485-fd70-3497ee2412d4"
      },
      "execution_count": 5,
      "outputs": [
        {
          "output_type": "stream",
          "name": "stdout",
          "text": [
            "<class 'list'>\n"
          ]
        },
        {
          "output_type": "execute_result",
          "data": {
            "text/plain": [
              "9999"
            ]
          },
          "metadata": {},
          "execution_count": 5
        }
      ]
    },
    {
      "cell_type": "code",
      "source": [
        "# Let's quickly decode a review\n",
        "# step 1: load the dictionary mappings from word to integer index\n",
        "word_index = imdb.get_word_index()\n",
        "# step 2: reverse word index to map integer indexes to their respective words\n",
        "reverse_word_index = dict([(value, key) for (key, value) in word_index.items()])\n",
        "# Step 3: decode the review, mapping integer indices to words\n",
        "# indices are off by 3 because 0, 1, and 2 are reserverd indices for \"padding\", \"Start of se\n",
        "decoded_review = ' '.join([reverse_word_index.get(i-3, '?') for i in train_data[0]])\n",
        "decoded_review"
      ],
      "metadata": {
        "colab": {
          "base_uri": "https://localhost:8080/",
          "height": 174
        },
        "id": "Yi7LwfU2EOvg",
        "outputId": "34be886b-5cf8-4741-92f8-2a9c99651425"
      },
      "execution_count": 6,
      "outputs": [
        {
          "output_type": "stream",
          "name": "stdout",
          "text": [
            "Downloading data from https://storage.googleapis.com/tensorflow/tf-keras-datasets/imdb_word_index.json\n",
            "1641221/1641221 [==============================] - 0s 0us/step\n"
          ]
        },
        {
          "output_type": "execute_result",
          "data": {
            "text/plain": [
              "\"? this film was just brilliant casting location scenery story direction everyone's really suited the part they played and you could just imagine being there robert ? is an amazing actor and now the same being director ? father came from the same scottish island as myself so i loved the fact there was a real connection with this film the witty remarks throughout the film were great it was just brilliant so much that i bought the film as soon as it was released for ? and would recommend it to everyone to watch and the fly fishing was amazing really cried at the end it was so sad and you know what they say if you cry at a film it must have been good and this definitely was also ? to the two little boy's that played the ? of norman and paul they were just brilliant children are often left out of the ? list i think because the stars that play them all grown up are such a big profile for the whole film but these children are amazing and should be praised for what they have done don't you think the whole story was so lovely because it was true and was someone's life after all that was shared with us all\""
            ],
            "application/vnd.google.colaboratory.intrinsic+json": {
              "type": "string"
            }
          },
          "metadata": {},
          "execution_count": 6
        }
      ]
    },
    {
      "cell_type": "code",
      "source": [
        "len(reverse_word_index)"
      ],
      "metadata": {
        "colab": {
          "base_uri": "https://localhost:8080/"
        },
        "id": "8y3Pn8WQEbPL",
        "outputId": "d6ad8a49-d8c9-4e3e-cd7c-682abf5a591d"
      },
      "execution_count": 7,
      "outputs": [
        {
          "output_type": "execute_result",
          "data": {
            "text/plain": [
              "88584"
            ]
          },
          "metadata": {},
          "execution_count": 7
        }
      ]
    },
    {
      "cell_type": "markdown",
      "source": [
        "##Preparing the data"
      ],
      "metadata": {
        "id": "YyfPllUcEi3S"
      }
    },
    {
      "cell_type": "markdown",
      "source": [
        "###Vectorize the data"
      ],
      "metadata": {
        "id": "rljDxGhRElh0"
      }
    },
    {
      "cell_type": "code",
      "source": [
        "def vectorize_sequences(sequences, dimension=10000):\n",
        "    results = np.zeros((len(sequences), dimension)) # Creates an all zero matrix of shape\n",
        "    for i,sequence in enumerate(sequences):\n",
        "        results[i,sequence] = 1 # Sets specific indices of results[i]\n",
        "    return results\n",
        "# Vectorize training Data\n",
        "X_train = vectorize_sequences(train_data)\n",
        "# Vectorize testing Data\n",
        "X_test = vectorize_sequences(test_data)"
      ],
      "metadata": {
        "id": "nQJEzsG9Ep_v"
      },
      "execution_count": 8,
      "outputs": []
    },
    {
      "cell_type": "code",
      "source": [
        "X_train[0]"
      ],
      "metadata": {
        "colab": {
          "base_uri": "https://localhost:8080/"
        },
        "id": "l1gtiNl9Evgy",
        "outputId": "b8333936-5ee4-4fa8-94d2-86804f32695c"
      },
      "execution_count": 10,
      "outputs": [
        {
          "output_type": "execute_result",
          "data": {
            "text/plain": [
              "array([0., 1., 1., ..., 0., 0., 0.])"
            ]
          },
          "metadata": {},
          "execution_count": 10
        }
      ]
    },
    {
      "cell_type": "code",
      "source": [
        "X_train.shape"
      ],
      "metadata": {
        "colab": {
          "base_uri": "https://localhost:8080/"
        },
        "id": "DuhElvLtEy-8",
        "outputId": "a4f9a2e3-81e7-4c46-a057-579326e2046d"
      },
      "execution_count": 11,
      "outputs": [
        {
          "output_type": "execute_result",
          "data": {
            "text/plain": [
              "(25000, 10000)"
            ]
          },
          "metadata": {},
          "execution_count": 11
        }
      ]
    },
    {
      "cell_type": "markdown",
      "source": [
        "####Vectorize labels"
      ],
      "metadata": {
        "id": "AGJkF0AWE4fg"
      }
    },
    {
      "cell_type": "code",
      "source": [
        "y_train = np.asarray(train_labels).astype('float32')\n",
        "y_test = np.asarray(test_labels).astype('float32')"
      ],
      "metadata": {
        "id": "yu3kuk4RE7l8"
      },
      "execution_count": 12,
      "outputs": []
    },
    {
      "cell_type": "markdown",
      "source": [
        "####Model definition"
      ],
      "metadata": {
        "id": "4JPpOkhcFEXt"
      }
    },
    {
      "cell_type": "code",
      "source": [
        "model = models.Sequential()\n",
        "model.add(layers.Dense(16, activation='relu', input_shape=(10000,)))\n",
        "model.add(layers.Dense(16, activation='relu'))\n",
        "model.add(layers.Dense(1, activation='sigmoid'))"
      ],
      "metadata": {
        "id": "U0uOYJe0FHLL"
      },
      "execution_count": 13,
      "outputs": []
    },
    {
      "cell_type": "markdown",
      "source": [
        "####Compiling the model"
      ],
      "metadata": {
        "id": "CXZh9F42FRPo"
      }
    },
    {
      "cell_type": "code",
      "source": [
        "model.compile(\n",
        "optimizer=optimizers.RMSprop(learning_rate=0.001),\n",
        "loss = losses.binary_crossentropy,\n",
        "metrics = [metrics.binary_accuracy]\n",
        ")"
      ],
      "metadata": {
        "id": "PGb3GhiPFTVK"
      },
      "execution_count": 14,
      "outputs": []
    },
    {
      "cell_type": "markdown",
      "source": [
        "####Setting up validation"
      ],
      "metadata": {
        "id": "HcGIMQ-ZFYi_"
      }
    },
    {
      "cell_type": "code",
      "source": [
        "# Input for Validation\n",
        "X_val = X_train[:10000]\n",
        "partial_X_train = X_train[10000:]\n",
        "# Labels for validation\n",
        "y_val = y_train[:10000]\n",
        "partial_y_train = y_train[10000:]"
      ],
      "metadata": {
        "id": "Wmhwr85ZFbhe"
      },
      "execution_count": 15,
      "outputs": []
    },
    {
      "cell_type": "markdown",
      "source": [
        "####Training our model"
      ],
      "metadata": {
        "id": "ZzSv2X1iFg6B"
      }
    },
    {
      "cell_type": "code",
      "source": [
        "history = model.fit(\n",
        "partial_X_train,\n",
        "partial_y_train,\n",
        "epochs=20,\n",
        "batch_size=512,\n",
        "validation_data=(X_val, y_val)\n",
        ")"
      ],
      "metadata": {
        "colab": {
          "base_uri": "https://localhost:8080/"
        },
        "id": "n-twQh7mFjY0",
        "outputId": "ed4d0cea-ba29-4c44-96f0-5ad6d23bb813"
      },
      "execution_count": 16,
      "outputs": [
        {
          "output_type": "stream",
          "name": "stdout",
          "text": [
            "Epoch 1/20\n",
            "30/30 [==============================] - 4s 119ms/step - loss: 0.5073 - binary_accuracy: 0.7857 - val_loss: 0.3733 - val_binary_accuracy: 0.8711\n",
            "Epoch 2/20\n",
            "30/30 [==============================] - 3s 105ms/step - loss: 0.3070 - binary_accuracy: 0.8977 - val_loss: 0.3046 - val_binary_accuracy: 0.8865\n",
            "Epoch 3/20\n",
            "30/30 [==============================] - 3s 108ms/step - loss: 0.2288 - binary_accuracy: 0.9220 - val_loss: 0.2870 - val_binary_accuracy: 0.8860\n",
            "Epoch 4/20\n",
            "30/30 [==============================] - 2s 56ms/step - loss: 0.1852 - binary_accuracy: 0.9397 - val_loss: 0.2767 - val_binary_accuracy: 0.8893\n",
            "Epoch 5/20\n",
            "30/30 [==============================] - 1s 45ms/step - loss: 0.1502 - binary_accuracy: 0.9519 - val_loss: 0.2822 - val_binary_accuracy: 0.8891\n",
            "Epoch 6/20\n",
            "30/30 [==============================] - 1s 37ms/step - loss: 0.1306 - binary_accuracy: 0.9570 - val_loss: 0.3231 - val_binary_accuracy: 0.8751\n",
            "Epoch 7/20\n",
            "30/30 [==============================] - 1s 32ms/step - loss: 0.1110 - binary_accuracy: 0.9655 - val_loss: 0.3017 - val_binary_accuracy: 0.8847\n",
            "Epoch 8/20\n",
            "30/30 [==============================] - 1s 32ms/step - loss: 0.0935 - binary_accuracy: 0.9725 - val_loss: 0.3261 - val_binary_accuracy: 0.8782\n",
            "Epoch 9/20\n",
            "30/30 [==============================] - 1s 33ms/step - loss: 0.0814 - binary_accuracy: 0.9767 - val_loss: 0.3343 - val_binary_accuracy: 0.8817\n",
            "Epoch 10/20\n",
            "30/30 [==============================] - 1s 37ms/step - loss: 0.0706 - binary_accuracy: 0.9816 - val_loss: 0.3520 - val_binary_accuracy: 0.8779\n",
            "Epoch 11/20\n",
            "30/30 [==============================] - 1s 32ms/step - loss: 0.0596 - binary_accuracy: 0.9849 - val_loss: 0.3726 - val_binary_accuracy: 0.8775\n",
            "Epoch 12/20\n",
            "30/30 [==============================] - 1s 35ms/step - loss: 0.0485 - binary_accuracy: 0.9897 - val_loss: 0.4012 - val_binary_accuracy: 0.8760\n",
            "Epoch 13/20\n",
            "30/30 [==============================] - 1s 36ms/step - loss: 0.0414 - binary_accuracy: 0.9911 - val_loss: 0.5019 - val_binary_accuracy: 0.8611\n",
            "Epoch 14/20\n",
            "30/30 [==============================] - 2s 55ms/step - loss: 0.0377 - binary_accuracy: 0.9924 - val_loss: 0.4396 - val_binary_accuracy: 0.8732\n",
            "Epoch 15/20\n",
            "30/30 [==============================] - 2s 65ms/step - loss: 0.0314 - binary_accuracy: 0.9930 - val_loss: 0.4632 - val_binary_accuracy: 0.8704\n",
            "Epoch 16/20\n",
            "30/30 [==============================] - 1s 37ms/step - loss: 0.0270 - binary_accuracy: 0.9954 - val_loss: 0.4774 - val_binary_accuracy: 0.8722\n",
            "Epoch 17/20\n",
            "30/30 [==============================] - 1s 33ms/step - loss: 0.0239 - binary_accuracy: 0.9954 - val_loss: 0.4985 - val_binary_accuracy: 0.8707\n",
            "Epoch 18/20\n",
            "30/30 [==============================] - 1s 34ms/step - loss: 0.0162 - binary_accuracy: 0.9985 - val_loss: 0.5243 - val_binary_accuracy: 0.8701\n",
            "Epoch 19/20\n",
            "30/30 [==============================] - 1s 46ms/step - loss: 0.0137 - binary_accuracy: 0.9991 - val_loss: 0.5415 - val_binary_accuracy: 0.8693\n",
            "Epoch 20/20\n",
            "30/30 [==============================] - 1s 49ms/step - loss: 0.0160 - binary_accuracy: 0.9973 - val_loss: 0.5634 - val_binary_accuracy: 0.8696\n"
          ]
        }
      ]
    },
    {
      "cell_type": "code",
      "source": [
        "history_dict = history.history\n",
        "history_dict.keys()"
      ],
      "metadata": {
        "colab": {
          "base_uri": "https://localhost:8080/"
        },
        "id": "uKKz5e_zE268",
        "outputId": "a4798949-00f5-4859-cf39-9245f39baeb5"
      },
      "execution_count": 17,
      "outputs": [
        {
          "output_type": "execute_result",
          "data": {
            "text/plain": [
              "dict_keys(['loss', 'binary_accuracy', 'val_loss', 'val_binary_accuracy'])"
            ]
          },
          "metadata": {},
          "execution_count": 17
        }
      ]
    },
    {
      "cell_type": "markdown",
      "source": [
        "#####history_dict contains values of : training loss, training accuracy, validation loss, validation accuracy\n",
        "#####Let's use matplotlib to plot training and validation losses and training and validation accuracy side by side"
      ],
      "metadata": {
        "id": "nGi2weI7F1mS"
      }
    },
    {
      "cell_type": "code",
      "source": [
        "# Plotting losses\n",
        "loss_values = history_dict['loss']\n",
        "val_loss_values = history_dict['val_loss']\n",
        "epochs = range(1, len(loss_values) + 1)\n",
        "plt.plot(epochs, loss_values, 'g', label=\"Training Loss\")\n",
        "plt.plot(epochs, val_loss_values, 'b', label=\"Validation Loss\")\n",
        "plt.title('Training and Validation Loss')\n",
        "plt.xlabel('Epochs')\n",
        "plt.ylabel('Loss Value')\n",
        "plt.legend()\n",
        "plt.show()"
      ],
      "metadata": {
        "colab": {
          "base_uri": "https://localhost:8080/",
          "height": 472
        },
        "id": "Dqb8qvdnGFz9",
        "outputId": "30a30e7f-18fd-4ad4-cc0e-22b1f74f50a5"
      },
      "execution_count": 18,
      "outputs": [
        {
          "output_type": "display_data",
          "data": {
            "text/plain": [
              "<Figure size 640x480 with 1 Axes>"
            ],
            "image/png": "[encoded data removed]"
          },
          "metadata": {}
        }
      ]
    },
    {
      "cell_type": "code",
      "source": [
        "# Training and Validation Accuracy\n",
        "acc_values = history_dict['binary_accuracy']\n",
        "val_acc_values = history_dict['val_binary_accuracy']\n",
        "epochs = range(1, len(loss_values) + 1)\n",
        "plt.plot(epochs, acc_values, 'g', label=\"Training Accuracy\")\n",
        "plt.plot(epochs, val_acc_values, 'b', label=\"Validation Accuracy\")\n",
        "plt.title('Training and Validation Accuraccy')\n",
        "plt.xlabel('Epochs')\n",
        "plt.ylabel('Accuracy')\n",
        "plt.legend()\n",
        "plt.show()"
      ],
      "metadata": {
        "colab": {
          "base_uri": "https://localhost:8080/",
          "height": 472
        },
        "id": "ULCh59OWFyKJ",
        "outputId": "b37976f9-783a-4a32-b8bb-70ed3c372232"
      },
      "execution_count": 19,
      "outputs": [
        {
          "output_type": "display_data",
          "data": {
            "text/plain": [
              "<Figure size 640x480 with 1 Axes>"
            ],
            "image/png": "[encoded data removed]"
          },
          "metadata": {}
        }
      ]
    },
    {
      "cell_type": "markdown",
      "source": [
        "###Retraining our model"
      ],
      "metadata": {
        "id": "ERacGQzsHIxi"
      }
    },
    {
      "cell_type": "code",
      "source": [
        "model.fit(\n",
        "partial_X_train,\n",
        "partial_y_train,\n",
        "epochs=3,\n",
        "batch_size=512,\n",
        "validation_data=(X_val, y_val)\n",
        ")"
      ],
      "metadata": {
        "colab": {
          "base_uri": "https://localhost:8080/"
        },
        "id": "p5DLARYuHMRB",
        "outputId": "ac0c9656-3ed1-40f3-972a-fd8019f4c504"
      },
      "execution_count": 20,
      "outputs": [
        {
          "output_type": "stream",
          "name": "stdout",
          "text": [
            "Epoch 1/3\n",
            "30/30 [==============================] - 4s 146ms/step - loss: 0.0114 - binary_accuracy: 0.9991 - val_loss: 0.5952 - val_binary_accuracy: 0.8657\n",
            "Epoch 2/3\n",
            "30/30 [==============================] - 2s 56ms/step - loss: 0.0078 - binary_accuracy: 0.9995 - val_loss: 0.8477 - val_binary_accuracy: 0.8350\n",
            "Epoch 3/3\n",
            "30/30 [==============================] - 2s 56ms/step - loss: 0.0083 - binary_accuracy: 0.9987 - val_loss: 0.6407 - val_binary_accuracy: 0.8649\n"
          ]
        },
        {
          "output_type": "execute_result",
          "data": {
            "text/plain": [
              "<keras.src.callbacks.History at 0x7937465d1480>"
            ]
          },
          "metadata": {},
          "execution_count": 20
        }
      ]
    },
    {
      "cell_type": "markdown",
      "source": [
        "###Model evaluation"
      ],
      "metadata": {
        "id": "pyo5llhxHRyK"
      }
    },
    {
      "cell_type": "code",
      "source": [
        "# Making Predictions for testing data\n",
        "np.set_printoptions(suppress=True)\n",
        "result = model.predict(X_test)"
      ],
      "metadata": {
        "colab": {
          "base_uri": "https://localhost:8080/"
        },
        "id": "ZzyVI8tZHV7C",
        "outputId": "a14965f4-c79d-48b3-add4-dfa5dcefd061"
      },
      "execution_count": 21,
      "outputs": [
        {
          "output_type": "stream",
          "name": "stdout",
          "text": [
            "782/782 [==============================] - 2s 2ms/step\n"
          ]
        }
      ]
    },
    {
      "cell_type": "code",
      "source": [
        "result"
      ],
      "metadata": {
        "colab": {
          "base_uri": "https://localhost:8080/"
        },
        "id": "rxc4xe9_HFLj",
        "outputId": "ca7b449b-5d24-41f5-edd0-f7807ca843fa"
      },
      "execution_count": 22,
      "outputs": [
        {
          "output_type": "execute_result",
          "data": {
            "text/plain": [
              "array([[0.01198831],\n",
              "       [0.9999998 ],\n",
              "       [0.753305  ],\n",
              "       ...,\n",
              "       [0.00199494],\n",
              "       [0.00783689],\n",
              "       [0.92171764]], dtype=float32)"
            ]
          },
          "metadata": {},
          "execution_count": 22
        }
      ]
    },
    {
      "cell_type": "code",
      "source": [
        "y_pred = np.zeros(len(result))\n",
        "for i, score in enumerate(result):\n",
        "    y_pred[i] = np.round(score)"
      ],
      "metadata": {
        "colab": {
          "base_uri": "https://localhost:8080/"
        },
        "id": "CXhrE3sNHdn8",
        "outputId": "f9c925f2-9ca0-4b55-f0fc-465635a529e8"
      },
      "execution_count": 23,
      "outputs": [
        {
          "output_type": "stream",
          "name": "stderr",
          "text": [
            "<ipython-input-23-d06888fff3d2>:3: DeprecationWarning: Conversion of an array with ndim > 0 to a scalar is deprecated, and will error in future. Ensure you extract a single element from your array before performing this operation. (Deprecated NumPy 1.25.)\n",
            "  y_pred[i] = np.round(score)\n"
          ]
        }
      ]
    },
    {
      "cell_type": "code",
      "source": [
        "mae = metrics.mean_absolute_error(y_pred, y_test)\n",
        "mae"
      ],
      "metadata": {
        "colab": {
          "base_uri": "https://localhost:8080/"
        },
        "id": "aQf4-pPpHjFV",
        "outputId": "792302c7-4645-4c93-9b15-d392dfe5d8d0"
      },
      "execution_count": 24,
      "outputs": [
        {
          "output_type": "execute_result",
          "data": {
            "text/plain": [
              "<tf.Tensor: shape=(), dtype=float32, numpy=0.1458>"
            ]
          },
          "metadata": {},
          "execution_count": 24
        }
      ]
    }
  ]
}